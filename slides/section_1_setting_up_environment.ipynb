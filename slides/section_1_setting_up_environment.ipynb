{
 "cells": [
  {
   "cell_type": "markdown",
   "id": "fb8411ed",
   "metadata": {
    "slideshow": {
     "slide_type": "slide"
    }
   },
   "source": [
    "# Intermediate Research Software Development in Python"
   ]
  },
  {
   "cell_type": "markdown",
   "id": "e7780fdb",
   "metadata": {
    "slideshow": {
     "slide_type": "notes"
    }
   },
   "source": [
    "## Setup\n",
    "\n",
    "- As participants arrive, ask them about the installation of required software: Bash, Git, a GitHub account, Python with pip and venv\n",
    "- Concurrently, send the link for the collaborative notes document and get them to sign the attendance list\n",
    "- If you are recording the session, notify participants you will be doing so, and start recording\n",
    "  - Breakout rooms are not recorded"
   ]
  },
  {
   "cell_type": "markdown",
   "id": "b625b1af",
   "metadata": {
    "slideshow": {
     "slide_type": "slide"
    }
   },
   "source": [
    "## Setting the Scene\n",
    "\n",
    "Why this course?\n",
    "\n",
    "Have you ever thought:\n",
    "- \"there must be a better way to do this\"\n",
    "- \"this software is getting in the way of my research\"\n",
    "- \"why is it so difficult to get this program to run?\"\n",
    "- \"this code is incomprehensible and really difficult to modify\"\n",
    "- \"I screwed up my Python installation again and need to reinstall my OS\""
   ]
  },
  {
   "cell_type": "markdown",
   "id": "0a528208",
   "metadata": {
    "slideshow": {
     "slide_type": "notes"
    }
   },
   "source": [
    "- why this course and why are you here?\n",
    "  - we have learned programming to do our research: it is a tool and a means to an end\n",
    "  - likely we are mostly self-taught or have taken some intro courses\n",
    "  - but we now find the techniques we have picked up to be inadequate for the software we need to write\n",
    "  - single scripts no longer cut it and we are collaborating with more people, or have users for the software we are producing\n",
    "  - you need some new skills and tools to tackle these problems\n",
    "  \n",
    "- You might have thought at some point (see questions on slide)\n",
    "\n",
    "- If so, then you have come to the right place. The objective of this course is to deal with these struggles you might be facing by teaching some intermediate software engineering skills\n",
    "  - just like maths, statistics, and physics theory, software engineering is a skill you need to continue to develop as a researcher"
   ]
  },
  {
   "cell_type": "markdown",
   "id": "a9817f03",
   "metadata": {
    "slideshow": {
     "slide_type": "subslide"
    }
   },
   "source": [
    "### Intermediate Research Software Development\n",
    "\n",
    "What you will be able to do at the end that should help your work:\n",
    "\n",
    "- restructure existing code and design more robust software from scratch\n",
    "- automate the process of testing and verifying software correctness \n",
    "- support collaborations with others in a way that mimics a typical collaborative software development process\n",
    "- get you ready to distribute your code for use by others"
   ]
  },
  {
   "cell_type": "markdown",
   "id": "c55b47d2",
   "metadata": {
    "slideshow": {
     "slide_type": "subslide"
    }
   },
   "source": [
    "### PSA: This is a Collaborative Learning Session"
   ]
  },
  {
   "cell_type": "markdown",
   "id": "12cd28d5",
   "metadata": {
    "slideshow": {
     "slide_type": "notes"
    }
   },
   "source": [
    "- PSA: This is a Collaborative Learning Session\n",
    "  - this is meant in two ways\n",
    "  - I'll be doing a bit of instructing, but most of the learning will come from the many exercises and other activities that you will do in groups. This is the first aspect of collaboration.\n",
    "  - Secondly, there will naturally be a variety of different backgrounds and levels of experience, and we the instructors and helpers should not be seen as the final authority on these matters. We have valuable experience to share, but so do you. Everyone here can and should contribute to this learning process, and this shouldn't be viewed as knowledge being imparted from your instructors on high; please speak up and get involved in the conversation."
   ]
  },
  {
   "cell_type": "markdown",
   "id": "42124ba0",
   "metadata": {
    "slideshow": {
     "slide_type": "subslide"
    }
   },
   "source": [
    "### Tools\n",
    "\n",
    "- Python\n",
    "- Integrated Development Environment: PyCharm\n",
    "- `pip` and `venv`\n",
    "- GitHub"
   ]
  },
  {
   "cell_type": "markdown",
   "id": "466d0c36",
   "metadata": {
    "slideshow": {
     "slide_type": "notes"
    }
   },
   "source": [
    "- This course has necessarily made some decisions about the tools used to demonstrate the concepts being taught\n",
    "  - Python is used as a fairly ubiquitous and syntactically easy language; however, the point needs to be clear that this isn't a course about Python; the course is about software engineering, and it is using Python as the playground to demonstrate the skills and concepts that should be valuable independent of the domain and language\n",
    "  - to this end, I will be trying to draw connections with other languages and development scenarios when applicable since I know Python isn't necessarily the main development language for everyone at UKAEA\n",
    "  - Learners should have already been notified about the IDE selection and installation. If the instructor has decided to allow different editors, reiterate any caveats (e.g. happy for you to use these editors, but no guarantee that we can help you if you are stuck). At an intermediate level, it is likely learners already have exposure to a preferred IDE, so they can shoulder more of the responsibility for getting that to work.\n",
    "  - GitHub is ubiquitous in software development, and a lot of research code ends up there. Other platforms are similar and so whatever is learnt here will be applicable.\n",
    "- in the long run, you will encounter many more tools than those shown here, and you will form your own preferences; that is fine and we are in no way suggesting these are the definitive tools that should be used by any researcher who codes"
   ]
  },
  {
   "cell_type": "markdown",
   "id": "567b407e",
   "metadata": {
    "slideshow": {
     "slide_type": "subslide"
    }
   },
   "source": [
    "### Rules of Engagement\n",
    "\n",
    "- Monitoring your status\n",
    "  - self reporting\n",
    "  \n",
    "    ✅ = all good | ❌ = not following or need help\n",
    "  - sporadic polls\n",
    "- Questions at any time by raising hand ✋\n",
    "- Some instruction with breakout rooms for independent study, exercises, and group activities"
   ]
  },
  {
   "cell_type": "markdown",
   "id": "aa66770a",
   "metadata": {
    "slideshow": {
     "slide_type": "notes"
    }
   },
   "source": [
    "- Rules of engagement\n",
    "- Monitoring you status\n",
    "  - We want to know how you are doing, and the more information we have about your progress, the better we can tailor the course to you and make it more valuable.\n",
    "  - There are two main ways to do this.\n",
    "  - Self reporting: Please use the green check mark and red 'x' in Zoom (or stickies if in person) to indicate your status with lessons or the current content; this is a more subtle way of indicating that you need help without interrupting the instructor. The helpers will be keeping an eye on the list of participants and their statuses. Can everyone please check now that they can put the green check mark up.\n",
    "  - Polls within Zoom will also be used to check how you are getting on. Please fill these in and don't ignore them! \n",
    "- Throughout the course, please feel free to interrupt at any point with a question, preferably through the raise hand feature.\n",
    "- Many portions of the course will involve breaking into separate groups to do work. Most of this will be independent work, but there are a few group tasks. There will usually be a helper in your room if you need assistance, but again, they are not all-knowing, so please help other participants if you think you can help.\n",
    "  - There will no doubt be a range of experiences and people moving at different paces in these groups. Please be mindful of that. If you find there is too much chatter and you can't focus on getting things done, feel free to mute audio.\n",
    "  - If you fall behind on the independent exercises, don't worry and prioritise any group work or discussion at the end of a breakout session. You can catch up between sessions."
   ]
  },
  {
   "cell_type": "markdown",
   "id": "2a1944cf",
   "metadata": {
    "slideshow": {
     "slide_type": "subslide"
    }
   },
   "source": [
    "## Content Overview\n",
    "\n",
    "![](../fig/course-overview.png)"
   ]
  },
  {
   "cell_type": "markdown",
   "id": "d20e17e6",
   "metadata": {
    "slideshow": {
     "slide_type": "notes"
    }
   },
   "source": [
    "There are four main sections of the course, each roughly to be covered in one of the four sessions.\n",
    "\n",
    "1. Setting up Software Environment: **PyCharm or VSCode** for editing, testing and debugging, **GitHub** for collaborative development, **virtual environments** for dependency isolation, and **Python code style**.\n",
    "2. Verifying Software Correctness at Scale: how to set up a **test framework** and automate and scale testing with **Continuous Integration (CI)**\n",
    "3. Designing Software Architecture: an exploration of different **software design paradigms** and their advantages and disadvantages\n",
    "4. Managing and Improving Software: learn how to **collaborate** on code through a group project covering **issue tracking** and **software support**"
   ]
  },
  {
   "cell_type": "markdown",
   "id": "29a081c8",
   "metadata": {
    "slideshow": {
     "slide_type": "slide"
    }
   },
   "source": [
    "## Section 1: Environment For Collaborative Code Development\n",
    "\n",
    "![](../fig/section1-overview.png)"
   ]
  },
  {
   "cell_type": "markdown",
   "id": "8e803f41",
   "metadata": {
    "slideshow": {
     "slide_type": "notes"
    }
   },
   "source": [
    "- the overall objective for this section is to get set up with the _tools_ for collaborative code development, and of course there are lots of decisions to make\n",
    "- the recommendations are opinionated but backed by experience\n",
    "\n",
    "1. Command Line & Virtual Development Environment: use command line to run our code and then the Python tools `venv` and `pip` to manage dependencies and isolate our project\n",
    "2. Integrated Development Environment (IDE): course content supports **PyCharm**, but we will do our best to also support **VSCode** assuming you have prior knowledge of it\n",
    "3. GitHub and Git development workflows\n",
    "4. Python coding style: PEP8\n",
    "\n",
    "- But first, we will get an overview of the example project that we will be working on throughout the course and its structure."
   ]
  },
  {
   "cell_type": "markdown",
   "id": "e915343e",
   "metadata": {
    "slideshow": {
     "slide_type": "subslide"
    }
   },
   "source": [
    "## Introduction to Our Project and Architecture\n",
    "\n",
    "The \"patient inflammation\" example from the Novice Software Carpentry Python Lesson.\n",
    "\n",
    "<center><img src='../fig/inflammation-dataset.svg'></center>"
   ]
  },
  {
   "cell_type": "markdown",
   "id": "248d0a06",
   "metadata": {
    "slideshow": {
     "slide_type": "notes"
    }
   },
   "source": [
    "- Give an introduction to the \"patient inflammation project\"\n",
    "  - the software project studies inflammation in patients who have been given a new treatment for arthritis and re-uses the inflammation dataset from the novice Software Carpentry Python lesson\n",
    "  - The dataset contains information for 60 patients, who had their inflammation levels recorded for 40 days, so a 2D dataset like shown in the figure\n",
    "- The analysis is incomplete and there are some errors that you will need to correct\n",
    "- First, we need to get the project, so go to the course website and follow the instructions there for copying and then cloning the repository locally on your machine to work on\n",
    "  - The link for this episode is in the shared document as the section header \"Introduction to Our Project and Architecture\"\n",
    "  - Complete the lesson \"Obtain the Software Project Locally\" ~ 2-3 minutes\n",
    "  - please let us know when you are done by taking off your status now and then setting it to the green check at the end"
   ]
  },
  {
   "cell_type": "markdown",
   "id": "ce5fc66a",
   "metadata": {
    "slideshow": {
     "slide_type": "subslide"
    }
   },
   "source": [
    "### Exercise: 🖉 Obtain the Software Project Locally"
   ]
  },
  {
   "cell_type": "markdown",
   "id": "0b01648d",
   "metadata": {
    "slideshow": {
     "slide_type": "subslide"
    }
   },
   "source": [
    "### Project Structure\n",
    "\n",
    "```bash\n",
    "$ tree -L 1 -D\n",
    ".\n",
    "├── data/\n",
    "├── inflammation/\n",
    "├── inflammation-analysis.py\n",
    "├── README.md\n",
    "└── tests/\n",
    "\n",
    "3 directories, 2 files\n",
    "\n",
    "```"
   ]
  },
  {
   "cell_type": "markdown",
   "id": "a1607273",
   "metadata": {
    "slideshow": {
     "slide_type": "notes"
    }
   },
   "source": [
    "- Let's take a look at the project structure\n",
    "  - I like to use `tree` (on Ubuntu installable through apt-get, not sure if it comes with Git for Windows)\n",
    "  - With this we see:\n",
    "  - README file (that typically describes the project, its usage, installation, authors and how to contribute),\n",
    "  - Python script `inflammation-analysis.py` provides the main entry point into the application\n",
    "  - three directories - inflammation, data and tests\n",
    "  - inflammation directory has two other Python scripts that we will look at more later\n",
    "  - data directory has the data we will be analysing in csv files\n",
    "  - tests directory has tests for our Python programs that we will be adding to and correcting\n",
    "  - **Important Point**: the structure of this project is not arbitrary\n",
    "    - a difference between novice and intermediate softare development is that at the intermediate level the structure of the project should be planned in advance, and this includes the structure of abstract entities like software components and how they interact\n",
    "    - in contrast, a novice will make this structure up as they go along (nothing wrong with that, it is part of learning, but at some point you need to stop doing that and have a think about these things in advance before you start a project).\n",
    "    - this is probably an appropriate point to link to the Python Cookiecutter project template: https://github.com/ukaea/scientific-python-cookiecutter (navigate to this page in shared browser screen)"
   ]
  },
  {
   "cell_type": "markdown",
   "id": "0e30c163",
   "metadata": {
    "slideshow": {
     "slide_type": "subslide"
    }
   },
   "source": [
    "### Exercise: 🖉 Have a Peak at the Data\n",
    "\n",
    "Please post your answers in the shared document."
   ]
  },
  {
   "cell_type": "markdown",
   "id": "c2878bae",
   "metadata": {
    "slideshow": {
     "slide_type": "notes"
    }
   },
   "source": [
    "- This should be quick, 1-2 minutes, no need to check on status.\n",
    "- Demonstrate answer from command line using preferred command: `head -n 5 data/inflammation-01.csv`\n",
    "- Explain that each line (row) is indexed by patient, and each comma delimited field (i.e. column) is indexed by the day"
   ]
  },
  {
   "cell_type": "markdown",
   "id": "f8b98b99",
   "metadata": {
    "slideshow": {
     "slide_type": "subslide"
    }
   },
   "source": [
    "### Software Architecture\n",
    "\n",
    "> Software architecture is the fundamental structure of a software system... It refers to a 'bigger picture' of a software system that describes high-level components (modules) of the system and how they interact.\n",
    "\n",
    "The specification or contract of how to interact with a module is called a **programming interface** and these are everywhere in software engineering (e.g. user interfaces, APIs, and even function signatures). \n",
    "\n",
    "How do we design a good **programming interface**?"
   ]
  },
  {
   "cell_type": "markdown",
   "id": "c39b3b52",
   "metadata": {
    "slideshow": {
     "slide_type": "notes"
    }
   },
   "source": [
    "- Read quote on slide\n",
    "- Modules are an important idea\n",
    "  - common examples: libraries that we import and use in our own code (e.g. `numpy` and `matplotlib`), classes in object-oriented languages\n",
    "  - modules are largely self-contained (they can have dependencies) but there should be a well-defined way to interact with it (otherwise, what is the point?)\n",
    "  - the specification or contract of how to interact with a module is called a **programming interface** and these are everywhere in software engineering (e.g. user interfaces, APIs, and even function signatures)\n",
    "- How do we design a good **programming interface**?\n",
    "  - architecture patterns are guides to help us not just with interfaces but the complete design of our code"
   ]
  },
  {
   "cell_type": "markdown",
   "id": "cc52ddf3",
   "metadata": {
    "slideshow": {
     "slide_type": "subslide"
    }
   },
   "source": [
    "### Architecture Patterns\n",
    "\n",
    "- Model-View-Controller (MVC)\n",
    "- Model-View-Adapter (MVA)\n",
    "- Service-Oriented Architecture (SOA)\n",
    "- Client-Server Architecture\n",
    "- Multilayer Architecture"
   ]
  },
  {
   "cell_type": "markdown",
   "id": "e4be8b81",
   "metadata": {
    "slideshow": {
     "slide_type": "notes"
    }
   },
   "source": [
    "- there are quite a few different architecture patterns out there, and we don't have time to assess all the different advantages and disadvantages\n",
    "- if you are interested, there are some links in the course content that you can follow up\n",
    "- lots of them share some key similarities, and one of the progenitors is the Model-View-Controller\n",
    "- unfortuantely, there is a pedantic semantic issue in the course content\n",
    "- what it calls Model-View-Controller and what is used for our example project is actually Model-View-Adapter\n",
    "- the are both very similar but have some key differences"
   ]
  },
  {
   "cell_type": "markdown",
   "id": "070f79fa",
   "metadata": {
    "slideshow": {
     "slide_type": "subslide"
    }
   },
   "source": [
    "### Model-View-Adapter (MVA)\n",
    "\n",
    "<center><img src='../fig/mva-diagram.png'></center>"
   ]
  },
  {
   "cell_type": "markdown",
   "id": "b3922022",
   "metadata": {
    "slideshow": {
     "slide_type": "notes"
    }
   },
   "source": [
    "- Model represents the data used by a program and also contains operations/rules for manipulating and changing the data in the model. This may be a database, a file, a single data object or a series of objects. For our example project, the Model is embodied in the `inflammation/model.py` module, which contains the patient data in appropriate data structures along with the methods to manipulate that patient data to get useful statistics. Show this file from command line using `tree -L 2`.\n",
    "\n",
    "- View is the means of displaying data to users/clients within an application (i.e. provides visualisation of the state of the model) **and** collecting user input in the case of a Graphical User Interface (GUI). However, sometimes the line can get a bit blurred, and the Adapter might collect user input directly (which is actually the case for our example project). For our example project, the View is represented by the module `inflammation/view.py` and it contains the routines to produce graphs of our patient data and the results from analysis. Show this file from command line.\n",
    "\n",
    "- Adapter manipulates both the Model and the View. Usually, it accepts input from the View and performs the corresponding action on the Model (changing the state of the model) and then updates the View accordingly. In our simple example project, the file `inflammation-analysis.py` is the Adapter, and it actually does handle user input so it not quite fully abiding by MVA.\n",
    "\n",
    "- Some final words on architecture and these particular patterns:\n",
    "  - don't get too caught up determining exactly what functionality should be the responsibility of each component\n",
    "  - the act of splitting things up and thinking about how they will interact through interfaces is where you get the most value\n",
    "  - it is likely you were already doing this in an informal fashion, but good to think about it more explicitly **and try to record your design in some appropriate format**"
   ]
  },
  {
   "cell_type": "markdown",
   "id": "cb8540ca",
   "metadata": {
    "slideshow": {
     "slide_type": "subslide"
    }
   },
   "source": [
    "### Breakout Exercise: 🖉 MVA Application Examples from your Work\n",
    "\n",
    "Think of some other examples from your work or life where MVA architecture may be suitable and discuss these with your fellow learners. Keep it brief (about 1 minute per person)."
   ]
  },
  {
   "cell_type": "markdown",
   "id": "3d9c5aa3",
   "metadata": {
    "slideshow": {
     "slide_type": "notes"
    }
   },
   "source": [
    "- send learners into breakout rooms for about 5 minutes\n",
    "- helpers can kickstart the discussion if no one wants to start"
   ]
  },
  {
   "cell_type": "markdown",
   "id": "09c563d5",
   "metadata": {
    "slideshow": {
     "slide_type": "notes"
    }
   },
   "source": [
    "# [Virtual Environments For Software Development](http://0.0.0.0:4000/03-virtual-environments/index.html)\n",
    "\n",
    "- Switch to terminal, but follow the notes here\n",
    "- Try to run the analysis script from the command line: `python3 inflammation-analysis.py`\n",
    "  - If you are in a clean Python installation, this should throw a `ModuleNotFoundError` which proves we have some external dependencies that are not installed and we need to get through a package manager\n",
    "  - Depending on what learners have in their `PYTHONPATH` and site packages for their current default environment, they may or may not have success with this command\n",
    "  - Take a look at the top of the views file to see the other dependencies: `head inflammation/views.py`\n",
    "- Before jumping to install matplotlib and numpy, it is worth a thought about other projects we might be currently be working on or in the future\n",
    "  - what if they have a requirement for a different version of numpy or matplotlib? or a different python version?\n",
    "  - in general, each project is going to have its own unique configuration and set of dependencies\n",
    "  - to solve this, we set up a virtual environment for each project, containing a specific python version and set of libraries that won't interact with others on the system\n",
    "- TODO create more notes about virtual envs and package managers\n",
    "- Get learners for follow content from \"Creating a `venv` Environment\" to \"Exporting/Importing an Environment with `pip`\"\n",
    "  - remember to use sticky notes for status\n",
    "- Does anyone have opinions on the naming of a virtual environment folder?\n",
    "- And important thing to note with `venv` is that you can only ever use the system version of python with it\n",
    "  - So, be mindful that if there is an update of your system installation then your virtual environment will stop working, and you will need to get rid of it and create a new one\n",
    "  - this is the process to do that:\n",
    "  ```bash\n",
    "  rm -r venv/\n",
    "  python3 -m venv venv\n",
    "  pip install <your_dependencies> #this is probably one of the best arguments for maintaing a requirements.txt\n",
    "  ```\n",
    "- Now, onto the content about exporting/importing an environment\n",
    "  - I think there are actually two scenarios here:\n",
    "  1. If you are providing a python application (i.e. building and deploying something) or doing a project that is a scientific analysis, then it is fine to pin your dependencies as detailed here in a `requirements.txt`\n",
    "  2. If you are providing a reusable library (i.e. one that might be called from someone else's code or another library) then pinning can be overly restrictive and cause issues for package managers, and it is considered bad practice to pin your dependencies like this\n",
    "    - Instead, you should specify loose dependency requirements in the `install_requires=[...]` metadata of `setup.py`. A full setup.py project is outside the scope of this course, but there are many good resources on this.\n",
    "    - <https://packaging.python.org/en/latest/discussions/install-requires-vs-requirements/>\n",
    "    - <https://caremad.io/posts/2013/07/setup-vs-requirement/>\n",
    "    - and if you want a template for Python projects that keeps `requirements.txt` and `install_requires` synced: <https://github.com/ukaea/scientific-python-cookiecutter>\n",
    "  - In general, I would recommend against pinning unless necessary\n",
    "- Get learners to practice exporting, then deleting their exising virtual env, the recreating it with the requirements.txt file\n",
    "- Live code the \"Running Python Scripts From Command Line\"\n",
    "  - confirm everyone gets the same error\n",
    "- TODO a note about environment management for other languages\n",
    "  - Ask John and Kristian about C++\n",
    "  - Fortran???\n",
    "  - The \"nuclear\" option is to develop in a Docker container and specify the environment with a Dockerfile\n",
    "    - However, this might not be possible for a variety of reasons: performance and developing on a cluster"
   ]
  },
  {
   "cell_type": "markdown",
   "id": "86faec44",
   "metadata": {
    "slideshow": {
     "slide_type": "notes"
    }
   },
   "source": [
    "# [Integrated Development Environments](http://0.0.0.0:4000/13-ides/index.html)\n",
    "\n",
    "- Most of us probably started out programming with a simple text editor and ran our programs from the command line with a compiler or interpreter\n",
    "  - This is fine to start off, but as our projects become more complex with more files and configurations, it natural that the tools we use to develop need to evolve as well\n",
    "  - Enter the Integrated Development Environment (IDE)\n",
    "- Preference for Code Editors and IDEs is one of the more contentious and strongly felt topics among software developers, but the bottom line is that if a tool works for you and helps you be productive, then it is absolutely fine to use that tool\n",
    "  - But again, for the practicalities of this course, the decision to use PyCharm has been made\n",
    "  - If you are comfortable enough in another IDE or code editor to get the functionality demonstrated in the content below, then please feel free to use that tool here, but this is a disclaimer that we cannot promise to resolve any issues you have, and if these issues are holding the group up then we will need to move on\n",
    "- TODO in the intro email, I should make it clear that if they want to use a different IDE, then they should read this section in advance and make sure that they can set up analogous functionality in their IDE\n",
    "- Let learners read through and try out content from \"Using the PyCharm IDE\" (~ 30mins -- I think this could be less, so poll learners after 20 minutes)\n",
    "  - Should this be done in breakout rooms? It is probably fine that this is a solo portion of the course, and if learners have trouble then a helper can take them into a breakout room\n",
    "  - Encourage learners to try out the features that are being discussed and don't worry about making modifications to their code since it is under version control it will be easy to reset any changes\n",
    "  - Reinforce that we won't be using the version control interface of PyCharm, but it is a perfectly useable feature, and again this comes down to preference\n"
   ]
  },
  {
   "cell_type": "markdown",
   "id": "a3370700",
   "metadata": {
    "slideshow": {
     "slide_type": "notes"
    }
   },
   "source": [
    "# [Collaborative Software Development Using Git and GitHub](http://0.0.0.0:4000/14-collaboration-using-git/index.html)\n",
    "\n",
    "- Walk through this image as a Git Refresher:\n",
    "\n",
    "![](../fig/git-lifecycle.png)\n",
    "\n",
    "- Do a poll to see if everyone is comfortable with all of the operations and terminology in that diagram\n",
    "  - allow for text entry for any terms that are uncertain\n",
    "  - Go into more depth on the terms that come up\n",
    "\n",
    "- Get learners to independently go through the section \"Checking-in Changes to Our Project\" (~ 10 minutes)\n",
    "  - note that SSH keys are also an equally valid (and now equally convenient) form of authentication with GitHub\n",
    "  - perhaps dig up a resource on this\n",
    "  - for the token, this seems to be the only resource that is actually needed: https://www.edgoad.com/2021/02/using-personal-access-tokens-with-git-and-github.html\n",
    "    - TODO perhaps suggest that this is the resource they lead with in the course content and say that users should follow it through; also, to prevent link rot it might be worthwhile to pull these instructions into the course itself\n",
    "    - for learners, remind them that they will need to copy the access token somewhere on their computer; if they use a password manager, consider making a new entry for this token; also, there are instructions to cache their token with the git cli, and that will make this more convenient since they will not need to enter the token with every git operation that communicates with GitHub\n",
    "\n",
    "- Git branches\n",
    "  - saying branches are versions of our code, while technically correct, is somewhat loose language and prone to potential errors\n",
    "    - TODO I think the term \"version\" should be reserved for versions of the code that are released; raise an issue about this\n",
    "  - branches are actually just a pointer to a commit, and that commit _can_ (but doesn't have to) define a distinct or divergent commit history of our main branch\n",
    "  - Talk through this image:\n",
    "  ![](../fig/git-feature-branch.svg)\n",
    "  - the best practice is to use a new branch for each separate and self-contained unit/piece of work you want to add to the project. This unit of work is also often called a feature and the branch where you develop it is called a feature branch. Each feature branch should have its own meaningful name - indicating its purpose (e.g. “issue23-fix”). If we keep making changes and pushing them directly to main branch on GitHub, then anyone who downloads our software from there will get all of our work in progress - whether or not it’s ready to use! So, working on a separate branch for each feature you are adding is good for several reasons:\n",
    "\n",
    "    - it enables the main branch to remain stable while you and the team explore and test the new code on a feature branch,\n",
    "    - it enables you to keep the untested and not-yet-functional feature branch code under version control and backed up,\n",
    "    - you and other team members may work on several features at the same time independently from one another,\n",
    "    - if you decide that the feature is not working or is no longer needed - you can easily and safely discard that branch without affecting the rest of the code.\n",
    "\n",
    "\n",
    "- Something missing from this section is a mention that a multi-person project, even if not external facing or with no users other than the developers, should have some record or agreement of how branching will work, and some document telling potential contributors how they can submit contributions through pull requests, usually in a `CONTRIBUTING.md` file.\n",
    "  - e.g. contributors fork you project, then work in their own feature branch, and when tested, they submit a PR to the *develop* branch of the upstream project\n",
    "  \n",
    "- Get learners to go through the remainder of the content from \"Creating Branches\" onwards (~ 15 minutes)"
   ]
  },
  {
   "cell_type": "markdown",
   "id": "93de7a62",
   "metadata": {
    "slideshow": {
     "slide_type": "notes"
    }
   },
   "source": [
    "# [Python Coding Conventions](http://0.0.0.0:4000/15-coding-conventions/index.html)\n",
    "\n",
    "- we now have all the tools to develop code in this course, but there is one further consideration about how these tools will support and guide our creation of code\n",
    "\n",
    "> \"Any fool can write code that a computer can understand. Good programmers write code that humans can understand.” — Martin Fowler\n",
    "\n",
    "- one of the main features of whether code is understandable is whether it follows a consistent *style*\n",
    "- *style* encompasses but is not limited to\n",
    "  - cleanly and consistently formatted\n",
    "  - descriptive comments and docstrings\n",
    "  - descriptive names for variables, functions, classes, and modules\n",
    "- the style you use for your code will vary depending on the language and what your team has agreed upon\n",
    "  - in order to help with implementing a consistent style, style guides or sets of conventions are used\n",
    "  - these can be agreed upon by colleagues or communities\n",
    "  - the important point is this: make sure whatever sytle you choose that it is consistent **within** a project, and if possible also across related projects\n",
    "- Unless you have particular requirements, it is best to go with a sytle guide that has the majority consensus for a particular language (albeit sometimes this won't exist, so choose what seems best)\n",
    "  - In Python, this is PEP8\n",
    "  - C++\n",
    "    - [`clang-format`](https://clang.llvm.org/docs/ClangFormat.html) is widely used for enforcing formatting, and there are [built-in presets](https://clang.llvm.org/docs/ClangFormatStyleOptions.html#configurable-format-style-options) for existing conventions followed by Google, LLVM, etc. Project specific settings made in a `.clang-format` file.\n",
    "    - our guide on C++ for VSCode recommends cpplint: https://intranet.ccfe.ac.uk/software/guides/vscode-cpp.html\n",
    "    - Some other useful resources that cover a broader scope than just style and formatting are [Google's C++ Style Guide](https://google.github.io/styleguide/cppguide.html#Formatting) and the [C++ Core Guidelines by Bjarne Stroustrup (the creator of C++)](https://github.com/isocpp/CppCoreGuidelines/blob/master/CppCoreGuidelines.md)\n",
    "  - Fortran\n",
    "    - we have a great guide on tooling in VSCode: https://intranet.ccfe.ac.uk/software/guides/vscode-fortran.html\n",
    "    - this is a good online resource: https://fortran-lang.org/learn/best_practices\n",
    "\n",
    "- What IDEs help with: set it and forget it!\n",
    "  - In PyCharm, adherance to PEP8 will automatically be checked and violations flagged for fixing (demonstrate this live)\n",
    "  - It is worth mentioning that at a project level, not everyone will be using the same IDE, so it is better to use an independent tool called a linter that will enforce these style requirements\n",
    "    - `black` is a popular but harsh and opinionated tool that can take some getting used to\n",
    "    - `flake8` and `pylint` a bit more conventional -> PyCharm can be modified to use one of these directly (outside of the scope of this course)\n",
    "\n",
    "- Split learners into breakout rooms and get them to work through content from \"Indentation\" section (~ 30 minutes)\n",
    "  - poll/status check at the end\n",
    "- Some comments after exercises\n",
    "  - There are many different docstring formats, and I tend to not like the Sphynx default very much. Google or Numpy style docstrings much more readable. TODO raise this as an amendment?\n",
    "  - TODO for the exercise to improve the docstrings, no mention is made of the fact that the module docstring should include a list of the functions in the module. This is another valid improvement.\n",
    "  \n",
    "```python\n",
    "\"\"\"\n",
    "Functions:\n",
    "    load_csv - Load a Numpy array from a CSV file\n",
    "    daily_mean - Calculate the daily mean of a 2D inflammation data array\n",
    "    daily_max - Calculate the daily max of a 2D inflammation data array\n",
    "    daily_min - Calculate the daily min of a 2D inflammation data array\n",
    "\"\"\"\n",
    "```"
   ]
  }
 ],
 "metadata": {
  "celltoolbar": "Slideshow",
  "kernelspec": {
   "display_name": "Python 3 (ipykernel)",
   "language": "python",
   "name": "python3"
  },
  "language_info": {
   "codemirror_mode": {
    "name": "ipython",
    "version": 3
   },
   "file_extension": ".py",
   "mimetype": "text/x-python",
   "name": "python",
   "nbconvert_exporter": "python",
   "pygments_lexer": "ipython3",
   "version": "3.8.10"
  },
  "rise": {
   "theme": "solarized"
  }
 },
 "nbformat": 4,
 "nbformat_minor": 5
}
