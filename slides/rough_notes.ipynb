{
 "cells": [
  {
   "cell_type": "markdown",
   "id": "e7780fdb",
   "metadata": {
    "slideshow": {
     "slide_type": "notes"
    }
   },
   "source": [
    "# Setup\n",
    "\n",
    "- Installation of required software should have been handled before, but make sure on the day before starting that all participants have access to the required tools: Bash, Git, a GitHub account, Python with pip and venv\n",
    "- TODO need to make a decision about VSCode and whether we will support it "
   ]
  },
  {
   "cell_type": "markdown",
   "id": "d20e17e6",
   "metadata": {
    "slideshow": {
     "slide_type": "notes"
    }
   },
   "source": [
    "# [Setting the Scene](http://0.0.0.0:4000/00-setting-the-scene/index.html)\n",
    "\n",
    "- fill out narrative about target audience and why we are here:\n",
    "  - we have learned programming to do our research: it is a tool and a means to an end\n",
    "  - likely we are mostly self-taught or have taken some intro courses\n",
    "  - but we now find the techniques we have picked up to be inadequate for the software we need to write\n",
    "  - single scripts no longer cut it and we are collaborating with more people, or have users for the software we are producing\n",
    "  - TODO think of a question to ask here like: how many times have you found yourself coding and thought \"there must be a better way to do this\" or \"this software is getting in the way of my research\", \"why is it so difficult to get this program to work?\", \"this code is incomprehensible and really difficult to modify\", \"I screwed up my Python installation again and need to reinstall my OS\", \n",
    "\n",
    "- objective of this course is to deal with some of these struggles you might be facing by teaching some intermediate software engineering skills\n",
    "  - just like maths, statistics, and physics theory, software engineering is a skill you need to continue to develop\n",
    "\n",
    "- teach intermediate software engineering skills so that you can:\n",
    "  - restructure existing code and design more robust software from scratch\n",
    "  - automate the process of testing and verifying software correctness \n",
    "  - support collaborations with others in a way that mimics a typical collaborative software development process\n",
    "  - get you ready to distribute your code for use by others\n",
    "\n",
    "- I want this to be seen as a collaborative learning session\n",
    "  - I'll be doing a bit of instructing, but most of the learning will come from the many exercises and other activities\n",
    "  - none of us here are computer scientists and have a variety of different backgrounds; so we can all contribute to this learning process, and this shouldn't be viewed as knowledge being imparted from your instructors on high; please speak up and get involved in the conversation\n",
    "\n",
    "- This course has necessarily made some decisions about the tools used to demonstrate the concepts being taught\n",
    "  - Python is used as a fairly ubiquitous and syntactically easy language; however, the point needs to be clear that this isn't a course about Python; the course is about software engineering, and it is using Python as the playground to demonstrate the skills and concepts that should be valuable independent of the domain and language\n",
    "  - to this end, I will be trying to draw connections with other languages and development scenarios when applicable since I know Python isn't necessarily the main development language for a researcher at UKAEA\n",
    "  - in the long run, you will encounter many more tools than those shown here, and you will form your own preferences; that is fine and we are in no way suggesting these are the definitive tools that should be used by any researcher who codes\n",
    "  \n",
    "## Content Overview\n",
    "\n",
    "Four main sections for the course.\n",
    "\n",
    "![](../fig/course-overview.png)\n",
    "\n",
    "I think a single slide will be fine to cover all the sections, giving a brief idea about each.\n",
    "\n",
    "1. Setting up Software Environment: **PyCharm or VSCode** for editing, testing and debugging, **GitHub** for collaborative development, **virtual environments** for dependency isolation, and **Python code style**.\n",
    "2. Verifying Software Correctness at Scale: how to set up a **test framework** and automate and scale testing with **Continuous Integration (CI)**\n",
    "3. Designing Software Architecture: an exploration of different **software design paradigms** and their advantages and disadvantages\n",
    "4. Managing and Improving Software: learn how to **collaborate** on code through a group project covering **issue tracking** and **software support** (TODO improve this once I go through the content)"
   ]
  },
  {
   "cell_type": "markdown",
   "id": "8e803f41",
   "metadata": {
    "slideshow": {
     "slide_type": "notes"
    }
   },
   "source": [
    "## [Section 1: Environment For Collaborative Code Development](http://0.0.0.0:4000/01-section1-intro/index.html)\n",
    "\n",
    "### Overview Slide / Intro\n",
    "\n",
    "- get set up with the _tools_ for collaborative code development, and of course there are lots of decisions to make\n",
    "- the recommendations are opinionated but backed by experience\n",
    "1. Command Line & Virtual Development Environment: use of Git through command line and then the Python tools `venv` and `pip` to manage dependencies and isolate our project\n",
    "2. Integrated Development Environment (IDE): course content supports **PyCharm**, but we will do our best to also support **VSCode** assuming you have prior knowledge of it\n",
    "3. GitHub and Git development workflows\n",
    "  - _Mod_ there should be some reference to git workflows in this paragraph\n",
    "4. Python coding style: PEP8\n",
    "\n",
    "_Mod_ Add reference to python coding style on this page"
   ]
  },
  {
   "cell_type": "markdown",
   "id": "2ea69e21",
   "metadata": {
    "slideshow": {
     "slide_type": "notes"
    }
   },
   "source": [
    "# [Introduction to Software Design and Development](http://0.0.0.0:4000/02-software-development/index.html)\n",
    "\n",
    "- _Fix_ this episode feels a bit out of place here\n",
    "  - the section starts with talking about tools and environment, and then quickly moves to talking about design without any warning, and then immediately back to tools and environment\n",
    "  - I think the problem is that there is no mention that there will be an introduction to the example project that will be used throughout the course; if there is some warning, then I think this would be fine, and the piece on architecture can probably stay where it is at the bottom of the page\n",
    "  - Also, the episode could do with a rename! It should be called \"Introduction to Our Project\" or something like that\n",
    "  - I have made these modifications in my `mbluteau-modifications` branch\n",
    "- Give an introduction to the \"patient inflammation project\"\n",
    "  - the software project studies inflammation in patients who have been given a new treatment for arthritis and reuses the inflammation dataset from the novice Software Carpentry Python lesson\n",
    "  - The dataset contains information for 60 patients, who had their inflammation levels recorded for 40 days, so a 2D dataset like below:\n",
    "  \n",
    "![](../fig/inflammation-dataset.svg)\n",
    " \n",
    "- The analysis is incomplete and there are some errors that you will need to correct\n",
    "- First, we need to get the project, so go to the course website and follow the instructions there for copying and then cloning the repository locally on your machine to work on\n",
    "  - Complete the lesson \"Obtain the Software Project Locally\"\n",
    "  - please let us know when you are done by using a sticky note\n",
    "- Let's take a look at the project structure\n",
    "  - Demo this from commandline\n",
    "  - I like to use `tree`\n",
    "  - With this we see:\n",
    "  - README file (that typically describes the project, its usage, installation, authors and how to contribute),\n",
    "  - Python script inflammation-analysis.py provides the main entry point into the application\n",
    "  - three directories - inflammation, data and tests\n",
    "  - inflammation directory has two other Python scripts that we will look at more later\n",
    "  - data directory has the data we will be analysing in csv files\n",
    "  - tests directory has tests for our Python programs that we will be adding to and correcting\n",
    "  - **Important Point**: the structure of this project is not arbitrary\n",
    "    - a difference between novice and intermediate softare development is that at the intermediate level the structure of the project should be planned in advance, and this includes the structure of abstract entities like software components and how they interact\n",
    "    - in contrast, a novice will make this structure up as they go along (nothing wrong with that, it is part of learning, but at some point you need to stop doing that and have a think about these things in advance before you start a project)."
   ]
  }
 ],
 "metadata": {
  "celltoolbar": "Slideshow",
  "kernelspec": {
   "display_name": "Python 3 (ipykernel)",
   "language": "python",
   "name": "python3"
  },
  "language_info": {
   "codemirror_mode": {
    "name": "ipython",
    "version": 3
   },
   "file_extension": ".py",
   "mimetype": "text/x-python",
   "name": "python",
   "nbconvert_exporter": "python",
   "pygments_lexer": "ipython3",
   "version": "3.8.10"
  }
 },
 "nbformat": 4,
 "nbformat_minor": 5
}
