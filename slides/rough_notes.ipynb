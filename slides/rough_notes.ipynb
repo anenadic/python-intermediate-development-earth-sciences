{
 "cells": [
  {
   "cell_type": "markdown",
   "id": "e7780fdb",
   "metadata": {
    "slideshow": {
     "slide_type": "notes"
    }
   },
   "source": [
    "# Setup\n",
    "\n",
    "- Installation of required software should have been handled before, but make sure on the day before starting that all participants have access to the required tools: Bash, Git, a GitHub account, Python with pip and venv\n",
    "- TODO need to make a decision about VSCode and whether we will support it "
   ]
  },
  {
   "cell_type": "markdown",
   "id": "d20e17e6",
   "metadata": {
    "slideshow": {
     "slide_type": "notes"
    }
   },
   "source": [
    "# [Setting the Scene](http://0.0.0.0:4000/00-setting-the-scene/index.html)\n",
    "\n",
    "- **make sure to start recording and notify participants we will be recording**\n",
    "- fill out narrative about target audience and why we are here:\n",
    "  - we have learned programming to do our research: it is a tool and a means to an end\n",
    "  - likely we are mostly self-taught or have taken some intro courses\n",
    "  - but we now find the techniques we have picked up to be inadequate for the software we need to write\n",
    "  - single scripts no longer cut it and we are collaborating with more people, or have users for the software we are producing\n",
    "  - TODO think of a question to ask here like: how many times have you found yourself coding and thought \"there must be a better way to do this\" or \"this software is getting in the way of my research\", \"why is it so difficult to get this program to work?\", \"this code is incomprehensible and really difficult to modify\", \"I screwed up my Python installation again and need to reinstall my OS\", \n",
    "\n",
    "- objective of this course is to deal with some of these struggles you might be facing by teaching some intermediate software engineering skills\n",
    "  - just like maths, statistics, and physics theory, software engineering is a skill you need to continue to develop\n",
    "\n",
    "- teach intermediate software engineering skills so that you can:\n",
    "  - restructure existing code and design more robust software from scratch\n",
    "  - automate the process of testing and verifying software correctness \n",
    "  - support collaborations with others in a way that mimics a typical collaborative software development process\n",
    "  - get you ready to distribute your code for use by others\n",
    "\n",
    "- I want this to be seen as a collaborative learning session\n",
    "  - I'll be doing a bit of instructing, but most of the learning will come from the many exercises and other activities\n",
    "  - Please type along as I am working at the command line or coding\n",
    "  - none of us here are computer scientists and have a variety of different backgrounds; so we can all contribute to this learning process, and this shouldn't be viewed as knowledge being imparted from your instructors on high; please speak up and get involved in the conversation\n",
    "\n",
    "- This course has necessarily made some decisions about the tools used to demonstrate the concepts being taught\n",
    "  - Python is used as a fairly ubiquitous and syntactically easy language; however, the point needs to be clear that this isn't a course about Python; the course is about software engineering, and it is using Python as the playground to demonstrate the skills and concepts that should be valuable independent of the domain and language\n",
    "  - to this end, I will be trying to draw connections with other languages and development scenarios when applicable since I know Python isn't necessarily the main development language for a researcher at UKAEA\n",
    "  - in the long run, you will encounter many more tools than those shown here, and you will form your own preferences; that is fine and we are in no way suggesting these are the definitive tools that should be used by any researcher who codes\n",
    "- Rules of engagement\n",
    "  - Please use the green check mark and red x to indicate your status with lessons or the current content; this is a more subtle way of indicating that you need help without interrupting the instructor\n",
    "  - At the same time, please feel free to interrupt at any point with a question, preferably through the raise hand feature\n",
    "  - Polls will also be used to check how you are getting on. Please fill these in and don't ignore them! We want to know how you are doing, and the more information we have about your progress, the better we can tailor the course to you and make it more valuable\n",
    "  - Many portions of the course will involve breaking into separate groups to do work. Most of this will be independent work, but there are a few group tasks. There will usually be a helper in your room if you need assistance. Please also open up questions to your fellow participants.\n",
    "    - There will no doubt be a range of experiences and people moving at different paces in these groups. Please be mindful of that. If you find there is too much chatter and you can't focus on getting things done, feel free to mute audio.\n",
    "  \n",
    "## Content Overview\n",
    "\n",
    "Four main sections for the course.\n",
    "\n",
    "![](../fig/course-overview.png)\n",
    "\n",
    "I think a single slide will be fine to cover all the sections, giving a brief idea about each.\n",
    "\n",
    "1. Setting up Software Environment: **PyCharm or VSCode** for editing, testing and debugging, **GitHub** for collaborative development, **virtual environments** for dependency isolation, and **Python code style**.\n",
    "2. Verifying Software Correctness at Scale: how to set up a **test framework** and automate and scale testing with **Continuous Integration (CI)**\n",
    "3. Designing Software Architecture: an exploration of different **software design paradigms** and their advantages and disadvantages\n",
    "4. Managing and Improving Software: learn how to **collaborate** on code through a group project covering **issue tracking** and **software support** (TODO improve this once I go through the content)"
   ]
  },
  {
   "cell_type": "markdown",
   "id": "8e803f41",
   "metadata": {
    "slideshow": {
     "slide_type": "notes"
    }
   },
   "source": [
    "## [Section 1: Environment For Collaborative Code Development](http://0.0.0.0:4000/01-section1-intro/index.html)\n",
    "\n",
    "### Overview Slide / Intro\n",
    "\n",
    "- get set up with the _tools_ for collaborative code development, and of course there are lots of decisions to make\n",
    "- the recommendations are opinionated but backed by experience\n",
    "1. Command Line & Virtual Development Environment: use of Git through command line and then the Python tools `venv` and `pip` to manage dependencies and isolate our project\n",
    "2. Integrated Development Environment (IDE): course content supports **PyCharm**, but we will do our best to also support **VSCode** assuming you have prior knowledge of it\n",
    "3. GitHub and Git development workflows\n",
    "  - _Mod_ there should be some reference to git workflows in this paragraph\n",
    "4. Python coding style: PEP8\n",
    "\n",
    "_Mod_ Add reference to python coding style on this page"
   ]
  },
  {
   "cell_type": "markdown",
   "id": "0ef6a18c",
   "metadata": {
    "slideshow": {
     "slide_type": "notes"
    }
   },
   "source": [
    "# [Introduction to Software Design and Development](http://0.0.0.0:4000/02-software-development/index.html)\n",
    "\n",
    "- _Fix_ this episode feels a bit out of place here\n",
    "  - the section starts with talking about tools and environment, and then quickly moves to talking about design without any warning, and then immediately back to tools and environment\n",
    "  - I think the problem is that there is no mention that there will be an introduction to the example project that will be used throughout the course; if there is some warning, then I think this would be fine, and the piece on architecture can probably stay where it is at the bottom of the page\n",
    "  - Also, the episode could do with a rename! It should be called \"Introduction to Our Project\" or something like that\n",
    "  - I have made these modifications in my `mbluteau-modifications` branch\n",
    "- Give an introduction to the \"patient inflammation project\"\n",
    "  - the software project studies inflammation in patients who have been given a new treatment for arthritis and reuses the inflammation dataset from the novice Software Carpentry Python lesson\n",
    "  - The dataset contains information for 60 patients, who had their inflammation levels recorded for 40 days, so a 2D dataset like below:\n",
    "  \n",
    "![](../fig/inflammation-dataset.svg)\n",
    " \n",
    "- The analysis is incomplete and there are some errors that you will need to correct\n",
    "- First, we need to get the project, so go to the course website and follow the instructions there for copying and then cloning the repository locally on your machine to work on\n",
    "  - Complete the lesson \"Obtain the Software Project Locally\"\n",
    "  - please let us know when you are done by using a sticky note\n",
    "- Let's take a look at the project structure\n",
    "  - Demo this from commandline\n",
    "  - I like to use `tree`\n",
    "  - With this we see:\n",
    "  - README file (that typically describes the project, its usage, installation, authors and how to contribute),\n",
    "  - Python script inflammation-analysis.py provides the main entry point into the application\n",
    "  - three directories - inflammation, data and tests\n",
    "  - inflammation directory has two other Python scripts that we will look at more later\n",
    "  - data directory has the data we will be analysing in csv files\n",
    "  - tests directory has tests for our Python programs that we will be adding to and correcting\n",
    "  - **Important Point**: the structure of this project is not arbitrary\n",
    "    - a difference between novice and intermediate softare development is that at the intermediate level the structure of the project should be planned in advance, and this includes the structure of abstract entities like software components and how they interact\n",
    "    - in contrast, a novice will make this structure up as they go along (nothing wrong with that, it is part of learning, but at some point you need to stop doing that and have a think about these things in advance before you start a project).\n",
    "    - this is probably an appropriate point to link to the Python Cookiecutter project template: https://github.com/ukaea/scientific-python-cookiecutter\n",
    "- Complete exercise \"Have a Peak at the Data\". Please post your answers in shared document.\n",
    "\n",
    "## Software Architecture\n",
    "\n",
    "- \"Software architecture is the fundamental structure of a software system... It refers to a 'bigger picture' of a software system that describes high-level components (modules) of the system and how they interact.\"\n",
    "- Modules are an important idea\n",
    "  - common examples: libraries that we import and use in our own code (e.g. `numpy` and `matplotlib`), classes in object-oriented languages\n",
    "  - modules are largely self-contained (they can have dependencies) but there should be a well-defined way to interact with it (otherwise, what is the point?)\n",
    "  - the specification or contract of how to interact with a module is called a **programming interface** and these are everywhere in software engineering (e.g. user interfaces, APIs, and even function signatures)\n",
    "- Have a read of the Wikipedia articles about different architectures (5 minutes)\n",
    "- What were some common features? Are any subsets or special cases of others? Any practical differences?\n",
    "  - MVC (as presented in the course content, which is actually Model-View-Adapter) is sort of a subset of the multitier/layer architecture concept, where the view is the \"presentation layer\", the controller is the \"application/business layer\" and the model is the \"data layer\"\n",
    "  - client-server is another subcase of multilayer architecture (where the presentation and application layers have been merged on the client-side)\n",
    "  - in contrast, SOA takes a much more loosely coupled view of software components; good example is HTTP-based REST APIs\n",
    "    - there is an agreed communication protocol over a network that the services use to communicate\n",
    "    - the purpose and function of each of these services is much less prescriptive than MVC or multilayer\n",
    "  - There is clear differentiation on underlying hardware: MVC is implementation agnostic (could be on sigle device or multiple) while multitier and server-client require distinct machines communicating between each other; similarly for SOA\n",
    "- MVC is likely most applicable to research contexts and it is also what is used for the example project\n",
    "- Traditional MVC is actually a bit different from the course content:\n",
    "![](../fig/MVC-Process.svg)\n",
    "By RegisFrey - Own work, Public Domain, https://commons.wikimedia.org/w/index.php?curid=10298177\n",
    "- There is direct communication between the model and the view, and the controller does not interact with the view\n",
    "- What is presented here is more accurately Model-View-Presenter/Mediator, where the view and model are completely decoupled and unaware of each other:\n",
    "![](../fig/mvc-DNA-guide-GUI.png)\n",
    "- TODO raise an issue about this on central repo?\n",
    "- For the example project, the MVC corresponds as follows:\n",
    "  - **Controller** = `inflammation-analysis.py` that performs basic statistical analysis over patient data and provides the main entry point into the application\n",
    "  - **View** = `inflammation/view.py` TODO add brief summary\n",
    "  - **Model** = `inflammation/model.py` TODO add brief summary\n",
    "- Discussion session (5 minutes) in small groups about how MVC might be applicable to their own work. Think of a piece of software you work on, and how this might be used for it. Or think of a new tool you might want to make that uses this.\n",
    "- Some final words on architecture and these particular patterns:\n",
    "  - don't get too caught up determining exactly what functionality should be the responsibility of each component\n",
    "  - the act of splitting things up and thinking about how they will interact through interfaces is where you get the most value\n",
    "  - it is likely you were already doing this in an informal fashion, but good to think about it more explicitly **and try to record your design in some appropriate format**\n",
    "  - TODO if there is no mention of how to store or record design information in a later section, raise an issue that some mention should be made about options"
   ]
  },
  {
   "cell_type": "markdown",
   "id": "09c563d5",
   "metadata": {
    "slideshow": {
     "slide_type": "notes"
    }
   },
   "source": [
    "# [Virtual Environments For Software Development](http://0.0.0.0:4000/03-virtual-environments/index.html)\n",
    "\n",
    "- Switch to terminal, but follow the notes here\n",
    "- Try to run the analysis script from the command line: `python3 inflammation-analysis.py`\n",
    "  - If you are in a clean Python installation, this should throw a `ModuleNotFoundError` which proves we have some external dependencies that are not installed and we need to get through a package manager\n",
    "  - Depending on what learners have in their `PYTHONPATH` and site packages for their current default environment, they may or may not have success with this command\n",
    "  - Take a look at the top of the views file to see the other dependencies: `head inflammation/views.py`\n",
    "- Before jumping to install matplotlib and numpy, it is worth a thought about other projects we might be currently be working on or in the future\n",
    "  - what if they have a requirement for a different version of numpy or matplotlib? or a different python version?\n",
    "  - in general, each project is going to have its own unique configuration and set of dependencies\n",
    "  - to solve this, we set up a virtual environment for each project, containing a specific python version and set of libraries that won't interact with others on the system\n",
    "- TODO create more notes about virtual envs and package managers\n",
    "- Get learners for follow content from \"Creating a `venv` Environment\" to \"Exporting/Importing an Environment with `pip`\"\n",
    "  - remember to use sticky notes for status\n",
    "- Does anyone have opinions on the naming of a virtual environment folder?\n",
    "- And important thing to note with `venv` is that you can only ever use the system version of python with it\n",
    "  - So, be mindful that if there is an update of your system installation then your virtual environment will stop working, and you will need to get rid of it and create a new one\n",
    "  - this is the process to do that:\n",
    "  ```bash\n",
    "  rm -r venv/\n",
    "  python3 -m venv venv\n",
    "  pip install <your_dependencies> #this is probably one of the best arguments for maintaing a requirements.txt\n",
    "  ```\n",
    "- Now, onto the content about exporting/importing an environment\n",
    "  - I think there are actually two scenarios here:\n",
    "  1. If you are providing a python application (i.e. building and deploying something) or doing a project that is a scientific analysis, then it is fine to pin your dependencies as detailed here in a `requirements.txt`\n",
    "  2. If you are providing a reusable library (i.e. one that might be called from someone else's code or another library) then pinning can be overly restrictive and cause issues for package managers, and it is considered bad practice to pin your dependencies like this\n",
    "    - Instead, you should specify loose dependency requirements in the `install_requires=[...]` metadata of `setup.py`. A full setup.py project is outside the scope of this course, but there are many good resources on this.\n",
    "    - <https://packaging.python.org/en/latest/discussions/install-requires-vs-requirements/>\n",
    "    - <https://caremad.io/posts/2013/07/setup-vs-requirement/>\n",
    "    - and if you want a template for Python projects that keeps `requirements.txt` and `install_requires` synced: <https://github.com/ukaea/scientific-python-cookiecutter>\n",
    "  - In general, I would recommend against pinning unless necessary\n",
    "- Get learners to practice exporting, then deleting their exising virtual env, the recreating it with the requirements.txt file\n",
    "- Live code the \"Running Python Scripts From Command Line\"\n",
    "  - confirm everyone gets the same error\n",
    "- TODO a note about environment management for other languages\n",
    "  - Ask John and Kristian about C++\n",
    "  - Fortran???\n",
    "  - The \"nuclear\" option is to develop in a Docker container and specify the environment with a Dockerfile\n",
    "    - However, this might not be possible for a variety of reasons: performance and developing on a cluster"
   ]
  },
  {
   "cell_type": "markdown",
   "id": "86faec44",
   "metadata": {
    "slideshow": {
     "slide_type": "notes"
    }
   },
   "source": [
    "# [Integrated Development Environments](http://0.0.0.0:4000/13-ides/index.html)\n",
    "\n",
    "- Most of us probably started out programming with a simple text editor and ran our programs from the command line with a compiler or interpreter\n",
    "  - This is fine to start off, but as our projects become more complex with more files and configurations, it natural that the tools we use to develop need to evolve as well\n",
    "  - Enter the Integrated Development Environment (IDE)\n",
    "- Preference for Code Editors and IDEs is one of the more contentious and strongly felt topics among software developers, but the bottom line is that if a tool works for you and helps you be productive, then it is absolutely fine to use that tool\n",
    "  - But again, for the practicalities of this course, the decision to use PyCharm has been made\n",
    "  - If you are comfortable enough in another IDE or code editor to get the functionality demonstrated in the content below, then please feel free to use that tool here, but this is a disclaimer that we cannot promise to resolve any issues you have, and if these issues are holding the group up then we will need to move on\n",
    "- TODO in the intro email, I should make it clear that if they want to use a different IDE, then they should read this section in advance and make sure that they can set up analogous functionality in their IDE\n",
    "- Let learners read through and try out content from \"Using the PyCharm IDE\" (~ 30mins -- I think this could be less, so poll learners after 20 minutes)\n",
    "  - Should this be done in breakout rooms? It is probably fine that this is a solo portion of the course, and if learners have trouble then a helper can take them into a breakout room\n",
    "  - Encourage learners to try out the features that are being discussed and don't worry about making modifications to their code since it is under version control it will be easy to reset any changes\n",
    "  - Reinforce that we won't be using the version control interface of PyCharm, but it is a perfectly useable feature, and again this comes down to preference\n"
   ]
  },
  {
   "cell_type": "markdown",
   "id": "a3370700",
   "metadata": {
    "slideshow": {
     "slide_type": "notes"
    }
   },
   "source": [
    "# [Collaborative Software Development Using Git and GitHub](http://0.0.0.0:4000/14-collaboration-using-git/index.html)\n",
    "\n",
    "- Walk through this image as a Git Refresher:\n",
    "\n",
    "![](../fig/git-lifecycle.png)\n",
    "\n",
    "- Do a poll to see if everyone is comfortable with all of the operations and terminology in that diagram\n",
    "  - allow for text entry for any terms that are uncertain\n",
    "  - Go into more depth on the terms that come up\n",
    "\n",
    "- Get learners to independently go through the section \"Checking-in Changes to Our Project\" (~ 10 minutes)\n",
    "  - note that SSH keys are also an equally valid (and now equally convenient) form of authentication with GitHub\n",
    "  - perhaps dig up a resource on this\n",
    "  - for the token, this seems to be the only resource that is actually needed: https://www.edgoad.com/2021/02/using-personal-access-tokens-with-git-and-github.html\n",
    "    - TODO perhaps suggest that this is the resource they lead with in the course content and say that users should follow it through; also, to prevent link rot it might be worthwhile to pull these instructions into the course itself\n",
    "    - for learners, remind them that they will need to copy the access token somewhere on their computer; if they use a password manager, consider making a new entry for this token; also, there are instructions to cache their token with the git cli, and that will make this more convenient since they will not need to enter the token with every git operation that communicates with GitHub\n",
    "\n",
    "- Git branches\n",
    "  - saying branches are versions of our code, while technically correct, is somewhat loose language and prone to potential errors\n",
    "    - TODO I think the term \"version\" should be reserved for versions of the code that are released; raise an issue about this\n",
    "  - branches are actually just a pointer to a commit, and that commit _can_ (but doesn't have to) define a distinct or divergent commit history of our main branch\n",
    "  - Talk through this image:\n",
    "  ![](../fig/git-feature-branch.svg)\n",
    "  - the best practice is to use a new branch for each separate and self-contained unit/piece of work you want to add to the project. This unit of work is also often called a feature and the branch where you develop it is called a feature branch. Each feature branch should have its own meaningful name - indicating its purpose (e.g. “issue23-fix”). If we keep making changes and pushing them directly to main branch on GitHub, then anyone who downloads our software from there will get all of our work in progress - whether or not it’s ready to use! So, working on a separate branch for each feature you are adding is good for several reasons:\n",
    "\n",
    "    - it enables the main branch to remain stable while you and the team explore and test the new code on a feature branch,\n",
    "    - it enables you to keep the untested and not-yet-functional feature branch code under version control and backed up,\n",
    "    - you and other team members may work on several features at the same time independently from one another,\n",
    "    - if you decide that the feature is not working or is no longer needed - you can easily and safely discard that branch without affecting the rest of the code.\n",
    "\n",
    "\n",
    "- Something missing from this section is a mention that a multi-person project, even if not external facing or with no users other than the developers, should have some record or agreement of how branching will work, and some document telling potential contributors how they can submit contributions through pull requests, usually in a `CONTRIBUTING.md` file.\n",
    "  - e.g. contributors fork you project, then work in their own feature branch, and when tested, they submit a PR to the *develop* branch of the upstream project\n",
    "  \n",
    "- Get learners to go through the remainder of the content from \"Creating Branches\" onwards (~ 15 minutes)"
   ]
  },
  {
   "cell_type": "markdown",
   "id": "93de7a62",
   "metadata": {
    "slideshow": {
     "slide_type": "notes"
    }
   },
   "source": [
    "# [Python Coding Conventions](http://0.0.0.0:4000/15-coding-conventions/index.html)\n",
    "\n",
    "- we now have all the tools to develop code in this course, but there is one further consideration about how these tools will support and guide our creation of code\n",
    "\n",
    "> \"Any fool can write code that a computer can understand. Good programmers write code that humans can understand.” — Martin Fowler\n",
    "\n",
    "- one of the main features of whether code is understandable is whether it follows a consistent *style*\n",
    "- *style* encompasses but is not limited to\n",
    "  - cleanly and consistently formatted\n",
    "  - descriptive comments and docstrings\n",
    "  - descriptive names for variables, functions, classes, and modules\n",
    "- the style you use for your code will vary depending on the language and what your team has agreed upon\n",
    "  - in order to help with implementing a consistent style, style guides or sets of conventions are used\n",
    "  - these can be agreed upon by colleagues or communities\n",
    "  - the important point is this: make sure whatever sytle you choose that it is consistent **within** a project, and if possible also across related projects\n",
    "- Unless you have particular requirements, it is best to go with a sytle guide that has the majority consensus for a particular language (albeit sometimes this won't exist, so choose what seems best)\n",
    "  - In Python, this is PEP8\n",
    "  - C++\n",
    "    - [`clang-format`](https://clang.llvm.org/docs/ClangFormat.html) is widely used for enforcing formatting, and there are [built-in presets](https://clang.llvm.org/docs/ClangFormatStyleOptions.html#configurable-format-style-options) for existing conventions followed by Google, LLVM, etc. Project specific settings made in a `.clang-format` file.\n",
    "    - our guide on C++ for VSCode recommends cpplint: https://intranet.ccfe.ac.uk/software/guides/vscode-cpp.html\n",
    "    - Some other useful resources that cover a broader scope than just style and formatting are [Google's C++ Style Guide](https://google.github.io/styleguide/cppguide.html#Formatting) and the [C++ Core Guidelines by Bjarne Stroustrup (the creator of C++)](https://github.com/isocpp/CppCoreGuidelines/blob/master/CppCoreGuidelines.md)\n",
    "  - Fortran\n",
    "    - we have a great guide on tooling in VSCode: https://intranet.ccfe.ac.uk/software/guides/vscode-fortran.html\n",
    "    - this is a good online resource: https://fortran-lang.org/learn/best_practices\n",
    "\n",
    "- What IDEs help with: set it and forget it!\n",
    "  - In PyCharm, adherance to PEP8 will automatically be checked and violations flagged for fixing (demonstrate this live)\n",
    "  - It is worth mentioning that at a project level, not everyone will be using the same IDE, so it is better to use an independent tool called a linter that will enforce these style requirements\n",
    "    - `black` is a popular but harsh and opinionated tool that can take some getting used to\n",
    "    - `flake8` and `pylint` a bit more conventional -> PyCharm can be modified to use one of these directly (outside of the scope of this course)\n",
    "\n",
    "- Split learners into breakout rooms and get them to work through content from \"Indentation\" section (~ 30 minutes)\n",
    "  - poll/status check at the end\n",
    "- Some comments after exercises\n",
    "  - There are many different docstring formats, and I tend to not like the Sphynx default very much. Google or Numpy style docstrings much more readable. TODO raise this as an amendment?\n",
    "  - TODO for the exercise to improve the docstrings, no mention is made of the fact that the module docstring should include a list of the functions in the module. This is another valid improvement.\n",
    "  \n",
    "```python\n",
    "\"\"\"\n",
    "Functions:\n",
    "    load_csv - Load a Numpy array from a CSV file\n",
    "    daily_mean - Calculate the daily mean of a 2D inflammation data array\n",
    "    daily_max - Calculate the daily max of a 2D inflammation data array\n",
    "    daily_min - Calculate the daily min of a 2D inflammation data array\n",
    "\"\"\"\n",
    "```"
   ]
  },
  {
   "cell_type": "markdown",
   "id": "bde031f2",
   "metadata": {
    "slideshow": {
     "slide_type": "notes"
    }
   },
   "source": [
    "# [Section 2: Ensuring Correctness of Software at Scale](http://0.0.0.0:4000/20-section2-intro/index.html)\n",
    "\n",
    "\n",
    "![](../fig/section2-overview.png)\n",
    "\n",
    "- Probably the most important thing to take away from this course\n",
    "\n",
    "- Pre-course questions about how to deal with drift in regression test results\n",
    "  - complicated especially if these are predictive model results\n",
    "  - main thought: need to be very careful about what you are testing\n",
    "      - A dependent variable that is highly sensitive to model parameters is not a good choice for regression testing\n",
    "      - A dependent variable that has tight coupling to experimental results and should be stable is a better choice (drift in this case indicates your model isn't sastifying basic validation)"
   ]
  },
  {
   "cell_type": "markdown",
   "id": "ba469861",
   "metadata": {
    "slideshow": {
     "slide_type": "notes"
    }
   },
   "source": [
    "# [Automatically Testing your Software](http://0.0.0.0:4000/21-automatically-testing-software/index.html)\n",
    "\n",
    "- Big questions: how can we be sure the code we have written is correct, produces accurate results, and is of good quality?\n",
    "- This is the domain of Verification and Validation (V&V), in which testing plays an important role\n",
    "  - define V&V in the modelling/scientific context of research software? Probably out of scope\n",
    "  \n",
    "> **testing:** The process of operating a system or component under specified conditions, observing or recording the results, and making an evaluation of some aspect of the system or component\n",
    "> — IEEE Standard Glossary of Software Engineering\n",
    "- i.e. inferring the _behaviour_ of our code through artifacts and making sure that matches what we expect or is required\n",
    "- Types of testing\n",
    "  - Manual testing\n",
    "  - Automated testing: codify the expected behaviour of our software such that verification can happen repeatedly without user inspection\n",
    "    - Unit tests: tests for small function units of our code (i.e functions, class methods, class objects)\n",
    "    - Funcitonal or integration tests: work at a higher level, and test functional paths through your code, e.g. given some specific inputs, a set of interconnected functions across a number of modules (or the entire code) produce the expected result.\n",
    "    - Regression tests: compare the current output of your code (usually an end-to-end result) to make sure it matches previous output that you don't want to change\n",
    "      - there was a question that came in about drift in regression tests, and the short answer with how to deal with this is first determining whether the output you are tracking is actually an invariant. If not, then you will necessarily need to allow for relative proximity, but then you might question whether this is a good long term output to base your regression test on. In our area and science broadly, invariants tend to be some observable or experimental physical results, so if you test isn't based on that, you are probably going to have a tough time.\n",
    "\n",
    "- Breakout rooms from \"Set Up a New Feature Branch for Writing Tests\" (~45 minutes)\n",
    "- status check\n",
    "- comments from content\n",
    "  - FRUIT doesn't look very active, so I would recommend pFUnit for Fortran instead. TODO raise this on repo"
   ]
  },
  {
   "cell_type": "markdown",
   "id": "3bb0ac4d",
   "metadata": {
    "slideshow": {
     "slide_type": "notes"
    }
   },
   "source": [
    "# [Scaling Up Unit Testing](http://0.0.0.0:4000/22-scaling-up-unit-testing/index.html)\n",
    "\n",
    "- in this section:\n",
    "  - parameterise our tests (i.e. run through multiple sets of parameters to test the same function, without writing a new test function for each parameter/data case)\n",
    "  - check how much of our code is covered by tests\n",
    "- send off learners into breakout rooms again (~ 15 minutes)\n",
    "- Limits to testing\n",
    "  - there are some good points there about getting value from testing\n",
    "  - what most researchers think: \n",
    "    - \"Peer review of my paper will be the test\"\n",
    "    - \"Looking at a graph is enough\"\n",
    "    - \"I don't have time to implement a clunky testing framework\"\n",
    "  - it hints that there is a spectrum between throwaway code that doesn't need to be tested and library code used by hundreds in a community that requires extensive testing suites with more than just unit tests\n",
    "  - where your particular code lies is a tricky question to answer sometimes, but a good rule of thumb is that if there is a chance that someone else will be using it, then you should give some thought to tests\n",
    "  - testing has a demonstrably positive impact upon the design on your code\n",
    "  - it must of course also be acknowledged that testing is not the answer to everything, and that it can't substitute for good manual and acceptance testing"
   ]
  },
  {
   "cell_type": "markdown",
   "id": "6d74d98f",
   "metadata": {
    "slideshow": {
     "slide_type": "notes"
    }
   },
   "source": [
    "# [Continuous Integration for Automated Testing](http://0.0.0.0:4000/23-continuous-integration-automated-testing/index.html)\n",
    "\n",
    "- we can run tests on our machine, but how do we know they will work on someone elses machine without getting them to also pull our changes and run the tests? enter continuous integration. off you go!\n",
    "- breakout rooms for ~ 45 mins\n",
    "- comments\n",
    "  - GitLab has very similar functionality and there are plenty of resources on our internal GitLab about this (add link?)\n",
    "  - TODO What about data access on the GitLab runners? Or if you are on GitHub? Pose this to RSE team\n",
    "- status check"
   ]
  },
  {
   "cell_type": "markdown",
   "id": "8ca9c2ad",
   "metadata": {
    "slideshow": {
     "slide_type": "notes"
    }
   },
   "source": [
    "# Diagnosing Issues and Improving Robustness\n",
    "\n",
    "TODO fill in any notes here. Likely just let learners walk through this."
   ]
  },
  {
   "cell_type": "markdown",
   "id": "d814939c",
   "metadata": {
    "slideshow": {
     "slide_type": "notes"
    }
   },
   "source": [
    "# Section 3: Software Architecture and Design\n",
    "\n",
    "![](../fig/section3-overview.png)\n",
    "\n",
    "- move up a conceptual level compared to previous section about tests\n",
    "- taking a look at the overall structure of our code and how we make design decisions about it\n",
    "  - this will influence how the code will interact with other code (API) and with users (UI/UX)"
   ]
  },
  {
   "cell_type": "markdown",
   "id": "52c08b55",
   "metadata": {
    "slideshow": {
     "slide_type": "notes"
    }
   },
   "source": [
    "# Programming Paradigms\n",
    "\n",
    "![](../fig/paradigms.png)\n",
    "\n",
    "> Modified from _Davis, Daniel. 2013. “Modelled on Software Engineering: Flexible Parametric Models in the Practice of Architecture.” PhD dissertation, RMIT University._\n",
    "\n",
    "- this is nice schematic view of how the different paradigms relate and are classified (loosely)\n",
    "  - database = query language in the text\n",
    "- if I have time to make notes, then walk through the content on this page\n",
    "  - otherwise, get learners to read and perhaps have some questions to prompt discussion about these paradigms\n",
    "  - getting a poll of which paradigms people use day-to-day could be interesting, as well as what they have used more generally\n",
    "- how could functional programming be beneficial in a scientific context at UKAEA? Practically, what would it look like?\n",
    "  - wait for functional programming section to answer this\n",
    "- exercise (write FizzBuzz program ~ 5 minutes)\n",
    "  - comment: the advantage of the functional programming style is that we can easily modify the factors that we want to consider and the code of the function we have written is unchanged, whereas for the structural or procedural style, we would need to rewrite the conditional statements each time\n",
    "  - also, the important part about the functional style is that we are taking an input, not changing it, and then producing a single output from that (this is what gives us that advantage above)"
   ]
  },
  {
   "cell_type": "markdown",
   "id": "b8f3ab37",
   "metadata": {
    "slideshow": {
     "slide_type": "notes"
    }
   },
   "source": [
    "# Object-Oriented Programming\n",
    "\n",
    "- Set off reading the \"Encapsulating data\" section and the \"Structuring Data\" exercise ~ 5-7 minutes\n",
    "  - this can be done in the `models.py` file, and plant the idea of making a test\n",
    "  - comment about the `attach_names` function in lesson: it uses an `assert` which isn't great practice outside of unit tests. Instead, raise an `TypeError` exception if the lengths don't match\n",
    "  - if you have an implementation, show it on screen\n",
    "  - second thought: this might be dwelling too much on a portion of the lesson that isn't that important..."
   ]
  }
 ],
 "metadata": {
  "celltoolbar": "Slideshow",
  "kernelspec": {
   "display_name": "Python 3 (ipykernel)",
   "language": "python",
   "name": "python3"
  },
  "language_info": {
   "codemirror_mode": {
    "name": "ipython",
    "version": 3
   },
   "file_extension": ".py",
   "mimetype": "text/x-python",
   "name": "python",
   "nbconvert_exporter": "python",
   "pygments_lexer": "ipython3",
   "version": "3.8.10"
  }
 },
 "nbformat": 4,
 "nbformat_minor": 5
}
