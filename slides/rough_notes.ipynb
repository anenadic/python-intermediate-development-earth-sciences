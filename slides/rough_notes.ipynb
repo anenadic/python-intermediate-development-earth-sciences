{
 "cells": [
  {
   "cell_type": "markdown",
   "id": "e7780fdb",
   "metadata": {
    "slideshow": {
     "slide_type": "notes"
    }
   },
   "source": [
    "# Setup\n",
    "\n",
    "- Installation of required software should have been handled before, but make sure on the day before starting that all participants have access to the required tools: Bash, Git, a GitHub account, Python with pip and venv\n",
    "- TODO need to make a decision about VSCode and whether we will support it "
   ]
  },
  {
   "cell_type": "markdown",
   "id": "d20e17e6",
   "metadata": {
    "slideshow": {
     "slide_type": "notes"
    }
   },
   "source": [
    "# [Setting the Scene](http://0.0.0.0:4000/00-setting-the-scene/index.html)\n",
    "\n",
    "- fill out narrative about target audience and why we are here:\n",
    "  - we have learned programming to do our research: it is a tool and a means to an end\n",
    "  - likely we are mostly self-taught or have taken some intro courses\n",
    "  - but we now find the techniques we have picked up to be inadequate for the software we need to write\n",
    "  - single scripts no longer cut it and we are collaborating with more people, or have users for the software we are producing\n",
    "  - TODO think of a question to ask here like: how many times have you found yourself coding and thought \"there must be a better way to do this\" or \"this software is getting in the way of my research\", \"why is it so difficult to get this program to work?\", \"this code is incomprehensible and really difficult to modify\", \"I screwed up my Python installation again and need to reinstall my OS\", \n",
    "\n",
    "- objective of this course is to deal with some of these struggles you might be facing by teaching some intermediate software engineering skills\n",
    "  - just like maths, statistics, and physics theory, software engineering is a skill you need to continue to develop\n",
    "\n",
    "- teach intermediate software engineering skills so that you can:\n",
    "  - restructure existing code and design more robust software from scratch\n",
    "  - automate the process of testing and verifying software correctness \n",
    "  - support collaborations with others in a way that mimics a typical collaborative software development process\n",
    "  - get you ready to distribute your code for use by others\n",
    "\n",
    "- I want this to be seen as a collaborative learning session\n",
    "  - I'll be doing a bit of instructing, but most of the learning will come from the many exercises and other activities\n",
    "  - none of us here are computer scientists and have a variety of different backgrounds; so we can all contribute to this learning process, and this shouldn't be viewed as knowledge being imparted from your instructors on high; please speak up and get involved in the conversation\n",
    "\n",
    "- This course has necessarily made some decisions about the tools used to demonstrate the concepts being taught\n",
    "  - Python is used as a fairly ubiquitous and syntactically easy language; however, the point needs to be clear that this isn't a course about Python; the course is about software engineering, and it is using Python as the playground to demonstrate the skills and concepts that should be valuable independent of the domain and language\n",
    "  - to this end, I will be trying to draw connections with other languages and development scenarios when applicable since I know Python isn't necessarily the main development language for a researcher at UKAEA\n",
    "  - in the long run, you will encounter many more tools than those shown here, and you will form your own preferences; that is fine and we are in no way suggesting these are the definitive tools that should be used by any researcher who codes\n",
    "  \n",
    "## Content Overview\n",
    "\n",
    "Four main sections for the course.\n",
    "\n",
    "![](../fig/course-overview.png)\n",
    "\n",
    "Just copy the summaries from the website content?"
   ]
  }
 ],
 "metadata": {
  "celltoolbar": "Slideshow",
  "kernelspec": {
   "display_name": "Python 3 (ipykernel)",
   "language": "python",
   "name": "python3"
  },
  "language_info": {
   "codemirror_mode": {
    "name": "ipython",
    "version": 3
   },
   "file_extension": ".py",
   "mimetype": "text/x-python",
   "name": "python",
   "nbconvert_exporter": "python",
   "pygments_lexer": "ipython3",
   "version": "3.8.10"
  }
 },
 "nbformat": 4,
 "nbformat_minor": 5
}
