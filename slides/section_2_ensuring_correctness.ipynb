{
 "cells": [
  {
   "cell_type": "markdown",
   "id": "63081167",
   "metadata": {
    "slideshow": {
     "slide_type": "slide"
    }
   },
   "source": [
    "# Section 2: Ensuring Correctness of Software at Scale\n",
    "\n",
    "</br>\n",
    "</br>\n",
    "<center><img src=\"../fig/section2-overview.png\" width=\"70%\"></center>"
   ]
  },
  {
   "cell_type": "markdown",
   "id": "bde031f2",
   "metadata": {
    "slideshow": {
     "slide_type": "notes"
    }
   },
   "source": [
    "- Probably the most important thing to take away from this course"
   ]
  },
  {
   "cell_type": "markdown",
   "id": "69449048",
   "metadata": {
    "slideshow": {
     "slide_type": "slide"
    }
   },
   "source": [
    "## Automatically Testing your Software\n",
    "\n",
    "- Big questions: how can we be sure the code we have written is correct, produces accurate results, and is of good quality?"
   ]
  },
  {
   "cell_type": "markdown",
   "id": "ea352e6c",
   "metadata": {
    "slideshow": {
     "slide_type": "fragment"
    }
   },
   "source": [
    "> **testing:** The process of operating a system or component under specified conditions, observing or recording the results, and making an evaluation of some aspect of the system or component\n",
    "> — IEEE Standard Glossary of Software Engineering"
   ]
  },
  {
   "cell_type": "markdown",
   "id": "ba469861",
   "metadata": {
    "slideshow": {
     "slide_type": "notes"
    }
   },
   "source": [
    "- Big questions: how can we be sure the code we have written is correct, produces accurate results, and is of good quality?\n",
    "  - This is the domain of Verification and Validation (V&V), in which testing plays an important role\n",
    "  \n",
    "> **testing:** The process of operating a system or component under specified conditions, observing or recording the results, and making an evaluation of some aspect of the system or component\n",
    "> — IEEE Standard Glossary of Software Engineering\n",
    "- i.e. inferring the _behaviour_ of our code through artifacts and making sure that matches what we expect or is required"
   ]
  },
  {
   "cell_type": "markdown",
   "id": "524d5133",
   "metadata": {
    "slideshow": {
     "slide_type": "subslide"
    }
   },
   "source": [
    "### Types of Testing\n",
    "\n",
    "- Types of testing\n",
    "  - Manual testing\n",
    "  - Automated testing\n",
    "    - Unit tests\n",
    "    - Funcitonal or integration tests\n",
    "    - Regression tests"
   ]
  },
  {
   "cell_type": "markdown",
   "id": "fc9ced39",
   "metadata": {
    "slideshow": {
     "slide_type": "notes"
    }
   },
   "source": [
    "- Types of testing\n",
    "  - Manual testing: an important part of exploratory research\n",
    "  - Automated testing: codify the expected behaviour of our software such that verification can happen repeatedly without user inspection\n",
    "    - Unit tests: tests for small function units of our code (i.e functions, class methods, class objects)\n",
    "    - Funcitonal or integration tests: work at a higher level, and test functional paths through your code, e.g. given some specific inputs, a set of interconnected functions across a number of modules (or the entire code) produce the expected result.\n",
    "    - Regression tests: compare the current output of your code (usually an end-to-end result) to make sure it matches previous output that you don't want to change\n",
    "- there was a question that came in about drift in regression tests, and the short answer with how to deal with this is first determining whether the output you are tracking is actually an invariant (or something close to an invariant)\n",
    "  - If not, then you will necessarily need to allow for relative proximity, but then you might question whether this is a good long term output to base your regression test on.\n",
    "  - In our area and science broadly, invariants tend to be some observable or experimental physical results, so if you test isn't based on that, you are probably going to have a tough time."
   ]
  },
  {
   "cell_type": "markdown",
   "id": "88fef427",
   "metadata": {
    "slideshow": {
     "slide_type": "subslide"
    }
   },
   "source": [
    "### Breakout Exercise: 🖉 Set Up a New Feature Branch for Writing Tests"
   ]
  },
  {
   "cell_type": "markdown",
   "id": "1fd95e55",
   "metadata": {
    "slideshow": {
     "slide_type": "notes"
    }
   },
   "source": [
    "- Breakout rooms from \"Set Up a New Feature Branch for Writing Tests\" (~45 minutes)\n",
    "- status check\n",
    "- comments from content\n",
    "  - FRUIT doesn't look very active, so I would recommend pFUnit for Fortran instead."
   ]
  },
  {
   "cell_type": "markdown",
   "id": "3bb0ac4d",
   "metadata": {
    "slideshow": {
     "slide_type": "notes"
    }
   },
   "source": [
    "# [Scaling Up Unit Testing](http://0.0.0.0:4000/22-scaling-up-unit-testing/index.html)\n",
    "\n",
    "- in this section:\n",
    "  - parameterise our tests (i.e. run through multiple sets of parameters to test the same function, without writing a new test function for each parameter/data case)\n",
    "  - check how much of our code is covered by tests\n",
    "- send off learners into breakout rooms again (~ 15 minutes)\n",
    "- Limits to testing\n",
    "  - there are some good points there about getting value from testing\n",
    "  - what most researchers think: \n",
    "    - \"Peer review of my paper will be the test\"\n",
    "    - \"Looking at a graph is enough\"\n",
    "    - \"I don't have time to implement a clunky testing framework\"\n",
    "  - it hints that there is a spectrum between throwaway code that doesn't need to be tested and library code used by hundreds in a community that requires extensive testing suites with more than just unit tests\n",
    "  - where your particular code lies is a tricky question to answer sometimes, but a good rule of thumb is that if there is a chance that someone else will be using it, then you should give some thought to tests\n",
    "  - testing has a demonstrably positive impact upon the design on your code\n",
    "  - it must of course also be acknowledged that testing is not the answer to everything, and that it can't substitute for good manual and acceptance testing"
   ]
  },
  {
   "cell_type": "markdown",
   "id": "6d74d98f",
   "metadata": {
    "slideshow": {
     "slide_type": "notes"
    }
   },
   "source": [
    "# [Continuous Integration for Automated Testing](http://0.0.0.0:4000/23-continuous-integration-automated-testing/index.html)\n",
    "\n",
    "- we can run tests on our machine, but how do we know they will work on someone elses machine without getting them to also pull our changes and run the tests? enter continuous integration. off you go!\n",
    "- breakout rooms for ~ 45 mins\n",
    "- comments\n",
    "  - GitLab has very similar functionality and there are plenty of resources on our internal GitLab about this (add link?)\n",
    "  - TODO What about data access on the GitLab runners? Or if you are on GitHub? Pose this to RSE team\n",
    "- status check\n",
    "- TODO the matrix of Python version uses 3.7 and 3.8, but the previous single Python version was 3.9. Should try to reconcile these."
   ]
  },
  {
   "cell_type": "markdown",
   "id": "bd823b59",
   "metadata": {
    "slideshow": {
     "slide_type": "notes"
    }
   },
   "source": [
    "# Diagnosing Issues and Improving Robustness\n",
    "\n",
    "- Split learners into breakout rooms (~50 mins although I think could be less, take a status check early)\n",
    "\n",
    "- TODO where do the test results come from for the `patient_normalise` test? There should be some indication that a manual calculation might have been done. This is a crucial question that many researchers have: where to get and/or generate test data.\n"
   ]
  }
 ],
 "metadata": {
  "celltoolbar": "Slideshow",
  "kernelspec": {
   "display_name": "Python 3 (ipykernel)",
   "language": "python",
   "name": "python3"
  },
  "language_info": {
   "codemirror_mode": {
    "name": "ipython",
    "version": 3
   },
   "file_extension": ".py",
   "mimetype": "text/x-python",
   "name": "python",
   "nbconvert_exporter": "python",
   "pygments_lexer": "ipython3",
   "version": "3.8.10"
  }
 },
 "nbformat": 4,
 "nbformat_minor": 5
}
